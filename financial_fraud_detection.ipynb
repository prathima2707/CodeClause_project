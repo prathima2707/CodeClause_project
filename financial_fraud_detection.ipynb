{
  "cells": [
    {
      "cell_type": "markdown",
      "metadata": {
        "id": "view-in-github",
        "colab_type": "text"
      },
      "source": [
        "<a href=\"https://colab.research.google.com/github/prathima2707/machine-learning/blob/main/financial_fraud_detection.ipynb\" target=\"_parent\"><img src=\"https://colab.research.google.com/assets/colab-badge.svg\" alt=\"Open In Colab\"/></a>"
      ]
    },
    {
      "cell_type": "markdown",
      "id": "a38d1ca9",
      "metadata": {
        "papermill": {
          "duration": 0.030013,
          "end_time": "2022-02-04T02:35:38.498790",
          "exception": false,
          "start_time": "2022-02-04T02:35:38.468777",
          "status": "completed"
        },
        "tags": [],
        "id": "a38d1ca9"
      },
      "source": [
        "# Objective\n",
        "* The objective of this exercise is to identify a fraudlent transaction as accurately as possible.\n",
        "* Compare different models based on their performance"
      ]
    },
    {
      "cell_type": "code",
      "source": [
        "from google.colab import drive\n",
        "drive.mount('/content/drive')"
      ],
      "metadata": {
        "id": "adiM53Sx7v7o",
        "colab": {
          "base_uri": "https://localhost:8080/"
        },
        "outputId": "1d424c01-191d-4653-82f5-48e3a49ec7ba"
      },
      "id": "adiM53Sx7v7o",
      "execution_count": 55,
      "outputs": [
        {
          "output_type": "stream",
          "name": "stdout",
          "text": [
            "Drive already mounted at /content/drive; to attempt to forcibly remount, call drive.mount(\"/content/drive\", force_remount=True).\n"
          ]
        }
      ]
    },
    {
      "cell_type": "markdown",
      "id": "ed53c54a",
      "metadata": {
        "papermill": {
          "duration": 0.028546,
          "end_time": "2022-02-04T02:35:38.555598",
          "exception": false,
          "start_time": "2022-02-04T02:35:38.527052",
          "status": "completed"
        },
        "tags": [],
        "id": "ed53c54a"
      },
      "source": [
        "##### Import neccessary libraries"
      ]
    },
    {
      "cell_type": "code",
      "execution_count": 56,
      "id": "6a212ce3",
      "metadata": {
        "_cell_guid": "b1076dfc-b9ad-4769-8c92-a6c4dae69d19",
        "_uuid": "8f2839f25d086af736a60e9eeb907d3b93b6e0e5",
        "execution": {
          "iopub.execute_input": "2022-02-04T02:35:38.625554Z",
          "iopub.status.busy": "2022-02-04T02:35:38.624865Z",
          "iopub.status.idle": "2022-02-04T02:35:40.267907Z",
          "shell.execute_reply": "2022-02-04T02:35:40.267164Z",
          "shell.execute_reply.started": "2022-02-04T01:56:00.372130Z"
        },
        "papermill": {
          "duration": 1.68327,
          "end_time": "2022-02-04T02:35:40.268100",
          "exception": false,
          "start_time": "2022-02-04T02:35:38.584830",
          "status": "completed"
        },
        "tags": [],
        "id": "6a212ce3"
      },
      "outputs": [],
      "source": [
        "import numpy as np # linear algebra\n",
        "import pandas as pd # data processing, CSV file I/O (e.g. pd.read_csv)\n",
        "import matplotlib.pyplot as plt\n",
        "import seaborn as sns\n",
        "import os\n",
        "for dirname, _, filenames in os.walk('/kaggle/input'):\n",
        "    for filename in filenames:\n",
        "        print(os.path.join(dirname, filename))\n",
        "\n",
        "from sklearn.preprocessing import StandardScaler\n",
        "from sklearn.model_selection import train_test_split\n",
        "from sklearn.linear_model import LogisticRegression\n",
        "from sklearn.metrics import f1_score, accuracy_score, confusion_matrix,roc_auc_score\n",
        "from sklearn.utils import resample\n",
        "from sklearn.ensemble import RandomForestClassifier\n",
        "## to ignore waarning\n",
        "import warnings\n",
        "warnings.filterwarnings(\"ignore\")#, category=DeprecationWarning)"
      ]
    },
    {
      "cell_type": "markdown",
      "id": "d33eca6f",
      "metadata": {
        "papermill": {
          "duration": 0.029976,
          "end_time": "2022-02-04T02:35:40.327531",
          "exception": false,
          "start_time": "2022-02-04T02:35:40.297555",
          "status": "completed"
        },
        "tags": [],
        "id": "d33eca6f"
      },
      "source": [
        "##### Load the dataset"
      ]
    },
    {
      "cell_type": "code",
      "execution_count": 57,
      "id": "9d187eb3",
      "metadata": {
        "execution": {
          "iopub.execute_input": "2022-02-04T02:35:40.390330Z",
          "iopub.status.busy": "2022-02-04T02:35:40.389539Z",
          "iopub.status.idle": "2022-02-04T02:36:00.328305Z",
          "shell.execute_reply": "2022-02-04T02:36:00.329344Z",
          "shell.execute_reply.started": "2022-02-04T01:56:02.014357Z"
        },
        "papermill": {
          "duration": 19.973232,
          "end_time": "2022-02-04T02:36:00.329523",
          "exception": false,
          "start_time": "2022-02-04T02:35:40.356291",
          "status": "completed"
        },
        "tags": [],
        "colab": {
          "base_uri": "https://localhost:8080/",
          "height": 226
        },
        "id": "9d187eb3",
        "outputId": "9c546f70-96af-4c93-9f37-993a91162fbd"
      },
      "outputs": [
        {
          "output_type": "execute_result",
          "data": {
            "text/plain": [
              "   step      type    amount     nameOrig  oldbalanceOrg  newbalanceOrig  \\\n",
              "0     1   PAYMENT   9839.64  C1231006815       170136.0       160296.36   \n",
              "1     1   PAYMENT   1864.28  C1666544295        21249.0        19384.72   \n",
              "2     1  TRANSFER    181.00  C1305486145          181.0            0.00   \n",
              "3     1  CASH_OUT    181.00   C840083671          181.0            0.00   \n",
              "4     1   PAYMENT  11668.14  C2048537720        41554.0        29885.86   \n",
              "\n",
              "      nameDest  oldbalanceDest  newbalanceDest  isFraud  isFlaggedFraud  \n",
              "0  M1979787155             0.0             0.0      0.0             0.0  \n",
              "1  M2044282225             0.0             0.0      0.0             0.0  \n",
              "2   C553264065             0.0             0.0      1.0             0.0  \n",
              "3    C38997010         21182.0             0.0      1.0             0.0  \n",
              "4  M1230701703             0.0             0.0      0.0             0.0  "
            ],
            "text/html": [
              "\n",
              "  <div id=\"df-a8c25342-9665-42a9-adae-fd4f7f6c8416\" class=\"colab-df-container\">\n",
              "    <div>\n",
              "<style scoped>\n",
              "    .dataframe tbody tr th:only-of-type {\n",
              "        vertical-align: middle;\n",
              "    }\n",
              "\n",
              "    .dataframe tbody tr th {\n",
              "        vertical-align: top;\n",
              "    }\n",
              "\n",
              "    .dataframe thead th {\n",
              "        text-align: right;\n",
              "    }\n",
              "</style>\n",
              "<table border=\"1\" class=\"dataframe\">\n",
              "  <thead>\n",
              "    <tr style=\"text-align: right;\">\n",
              "      <th></th>\n",
              "      <th>step</th>\n",
              "      <th>type</th>\n",
              "      <th>amount</th>\n",
              "      <th>nameOrig</th>\n",
              "      <th>oldbalanceOrg</th>\n",
              "      <th>newbalanceOrig</th>\n",
              "      <th>nameDest</th>\n",
              "      <th>oldbalanceDest</th>\n",
              "      <th>newbalanceDest</th>\n",
              "      <th>isFraud</th>\n",
              "      <th>isFlaggedFraud</th>\n",
              "    </tr>\n",
              "  </thead>\n",
              "  <tbody>\n",
              "    <tr>\n",
              "      <th>0</th>\n",
              "      <td>1</td>\n",
              "      <td>PAYMENT</td>\n",
              "      <td>9839.64</td>\n",
              "      <td>C1231006815</td>\n",
              "      <td>170136.0</td>\n",
              "      <td>160296.36</td>\n",
              "      <td>M1979787155</td>\n",
              "      <td>0.0</td>\n",
              "      <td>0.0</td>\n",
              "      <td>0.0</td>\n",
              "      <td>0.0</td>\n",
              "    </tr>\n",
              "    <tr>\n",
              "      <th>1</th>\n",
              "      <td>1</td>\n",
              "      <td>PAYMENT</td>\n",
              "      <td>1864.28</td>\n",
              "      <td>C1666544295</td>\n",
              "      <td>21249.0</td>\n",
              "      <td>19384.72</td>\n",
              "      <td>M2044282225</td>\n",
              "      <td>0.0</td>\n",
              "      <td>0.0</td>\n",
              "      <td>0.0</td>\n",
              "      <td>0.0</td>\n",
              "    </tr>\n",
              "    <tr>\n",
              "      <th>2</th>\n",
              "      <td>1</td>\n",
              "      <td>TRANSFER</td>\n",
              "      <td>181.00</td>\n",
              "      <td>C1305486145</td>\n",
              "      <td>181.0</td>\n",
              "      <td>0.00</td>\n",
              "      <td>C553264065</td>\n",
              "      <td>0.0</td>\n",
              "      <td>0.0</td>\n",
              "      <td>1.0</td>\n",
              "      <td>0.0</td>\n",
              "    </tr>\n",
              "    <tr>\n",
              "      <th>3</th>\n",
              "      <td>1</td>\n",
              "      <td>CASH_OUT</td>\n",
              "      <td>181.00</td>\n",
              "      <td>C840083671</td>\n",
              "      <td>181.0</td>\n",
              "      <td>0.00</td>\n",
              "      <td>C38997010</td>\n",
              "      <td>21182.0</td>\n",
              "      <td>0.0</td>\n",
              "      <td>1.0</td>\n",
              "      <td>0.0</td>\n",
              "    </tr>\n",
              "    <tr>\n",
              "      <th>4</th>\n",
              "      <td>1</td>\n",
              "      <td>PAYMENT</td>\n",
              "      <td>11668.14</td>\n",
              "      <td>C2048537720</td>\n",
              "      <td>41554.0</td>\n",
              "      <td>29885.86</td>\n",
              "      <td>M1230701703</td>\n",
              "      <td>0.0</td>\n",
              "      <td>0.0</td>\n",
              "      <td>0.0</td>\n",
              "      <td>0.0</td>\n",
              "    </tr>\n",
              "  </tbody>\n",
              "</table>\n",
              "</div>\n",
              "    <div class=\"colab-df-buttons\">\n",
              "\n",
              "  <div class=\"colab-df-container\">\n",
              "    <button class=\"colab-df-convert\" onclick=\"convertToInteractive('df-a8c25342-9665-42a9-adae-fd4f7f6c8416')\"\n",
              "            title=\"Convert this dataframe to an interactive table.\"\n",
              "            style=\"display:none;\">\n",
              "\n",
              "  <svg xmlns=\"http://www.w3.org/2000/svg\" height=\"24px\" viewBox=\"0 -960 960 960\">\n",
              "    <path d=\"M120-120v-720h720v720H120Zm60-500h600v-160H180v160Zm220 220h160v-160H400v160Zm0 220h160v-160H400v160ZM180-400h160v-160H180v160Zm440 0h160v-160H620v160ZM180-180h160v-160H180v160Zm440 0h160v-160H620v160Z\"/>\n",
              "  </svg>\n",
              "    </button>\n",
              "\n",
              "  <style>\n",
              "    .colab-df-container {\n",
              "      display:flex;\n",
              "      gap: 12px;\n",
              "    }\n",
              "\n",
              "    .colab-df-convert {\n",
              "      background-color: #E8F0FE;\n",
              "      border: none;\n",
              "      border-radius: 50%;\n",
              "      cursor: pointer;\n",
              "      display: none;\n",
              "      fill: #1967D2;\n",
              "      height: 32px;\n",
              "      padding: 0 0 0 0;\n",
              "      width: 32px;\n",
              "    }\n",
              "\n",
              "    .colab-df-convert:hover {\n",
              "      background-color: #E2EBFA;\n",
              "      box-shadow: 0px 1px 2px rgba(60, 64, 67, 0.3), 0px 1px 3px 1px rgba(60, 64, 67, 0.15);\n",
              "      fill: #174EA6;\n",
              "    }\n",
              "\n",
              "    .colab-df-buttons div {\n",
              "      margin-bottom: 4px;\n",
              "    }\n",
              "\n",
              "    [theme=dark] .colab-df-convert {\n",
              "      background-color: #3B4455;\n",
              "      fill: #D2E3FC;\n",
              "    }\n",
              "\n",
              "    [theme=dark] .colab-df-convert:hover {\n",
              "      background-color: #434B5C;\n",
              "      box-shadow: 0px 1px 3px 1px rgba(0, 0, 0, 0.15);\n",
              "      filter: drop-shadow(0px 1px 2px rgba(0, 0, 0, 0.3));\n",
              "      fill: #FFFFFF;\n",
              "    }\n",
              "  </style>\n",
              "\n",
              "    <script>\n",
              "      const buttonEl =\n",
              "        document.querySelector('#df-a8c25342-9665-42a9-adae-fd4f7f6c8416 button.colab-df-convert');\n",
              "      buttonEl.style.display =\n",
              "        google.colab.kernel.accessAllowed ? 'block' : 'none';\n",
              "\n",
              "      async function convertToInteractive(key) {\n",
              "        const element = document.querySelector('#df-a8c25342-9665-42a9-adae-fd4f7f6c8416');\n",
              "        const dataTable =\n",
              "          await google.colab.kernel.invokeFunction('convertToInteractive',\n",
              "                                                    [key], {});\n",
              "        if (!dataTable) return;\n",
              "\n",
              "        const docLinkHtml = 'Like what you see? Visit the ' +\n",
              "          '<a target=\"_blank\" href=https://colab.research.google.com/notebooks/data_table.ipynb>data table notebook</a>'\n",
              "          + ' to learn more about interactive tables.';\n",
              "        element.innerHTML = '';\n",
              "        dataTable['output_type'] = 'display_data';\n",
              "        await google.colab.output.renderOutput(dataTable, element);\n",
              "        const docLink = document.createElement('div');\n",
              "        docLink.innerHTML = docLinkHtml;\n",
              "        element.appendChild(docLink);\n",
              "      }\n",
              "    </script>\n",
              "  </div>\n",
              "\n",
              "\n",
              "<div id=\"df-e9d47bf0-191c-4b1e-8dbf-30cd33849c95\">\n",
              "  <button class=\"colab-df-quickchart\" onclick=\"quickchart('df-e9d47bf0-191c-4b1e-8dbf-30cd33849c95')\"\n",
              "            title=\"Suggest charts\"\n",
              "            style=\"display:none;\">\n",
              "\n",
              "<svg xmlns=\"http://www.w3.org/2000/svg\" height=\"24px\"viewBox=\"0 0 24 24\"\n",
              "     width=\"24px\">\n",
              "    <g>\n",
              "        <path d=\"M19 3H5c-1.1 0-2 .9-2 2v14c0 1.1.9 2 2 2h14c1.1 0 2-.9 2-2V5c0-1.1-.9-2-2-2zM9 17H7v-7h2v7zm4 0h-2V7h2v10zm4 0h-2v-4h2v4z\"/>\n",
              "    </g>\n",
              "</svg>\n",
              "  </button>\n",
              "\n",
              "<style>\n",
              "  .colab-df-quickchart {\n",
              "      --bg-color: #E8F0FE;\n",
              "      --fill-color: #1967D2;\n",
              "      --hover-bg-color: #E2EBFA;\n",
              "      --hover-fill-color: #174EA6;\n",
              "      --disabled-fill-color: #AAA;\n",
              "      --disabled-bg-color: #DDD;\n",
              "  }\n",
              "\n",
              "  [theme=dark] .colab-df-quickchart {\n",
              "      --bg-color: #3B4455;\n",
              "      --fill-color: #D2E3FC;\n",
              "      --hover-bg-color: #434B5C;\n",
              "      --hover-fill-color: #FFFFFF;\n",
              "      --disabled-bg-color: #3B4455;\n",
              "      --disabled-fill-color: #666;\n",
              "  }\n",
              "\n",
              "  .colab-df-quickchart {\n",
              "    background-color: var(--bg-color);\n",
              "    border: none;\n",
              "    border-radius: 50%;\n",
              "    cursor: pointer;\n",
              "    display: none;\n",
              "    fill: var(--fill-color);\n",
              "    height: 32px;\n",
              "    padding: 0;\n",
              "    width: 32px;\n",
              "  }\n",
              "\n",
              "  .colab-df-quickchart:hover {\n",
              "    background-color: var(--hover-bg-color);\n",
              "    box-shadow: 0 1px 2px rgba(60, 64, 67, 0.3), 0 1px 3px 1px rgba(60, 64, 67, 0.15);\n",
              "    fill: var(--button-hover-fill-color);\n",
              "  }\n",
              "\n",
              "  .colab-df-quickchart-complete:disabled,\n",
              "  .colab-df-quickchart-complete:disabled:hover {\n",
              "    background-color: var(--disabled-bg-color);\n",
              "    fill: var(--disabled-fill-color);\n",
              "    box-shadow: none;\n",
              "  }\n",
              "\n",
              "  .colab-df-spinner {\n",
              "    border: 2px solid var(--fill-color);\n",
              "    border-color: transparent;\n",
              "    border-bottom-color: var(--fill-color);\n",
              "    animation:\n",
              "      spin 1s steps(1) infinite;\n",
              "  }\n",
              "\n",
              "  @keyframes spin {\n",
              "    0% {\n",
              "      border-color: transparent;\n",
              "      border-bottom-color: var(--fill-color);\n",
              "      border-left-color: var(--fill-color);\n",
              "    }\n",
              "    20% {\n",
              "      border-color: transparent;\n",
              "      border-left-color: var(--fill-color);\n",
              "      border-top-color: var(--fill-color);\n",
              "    }\n",
              "    30% {\n",
              "      border-color: transparent;\n",
              "      border-left-color: var(--fill-color);\n",
              "      border-top-color: var(--fill-color);\n",
              "      border-right-color: var(--fill-color);\n",
              "    }\n",
              "    40% {\n",
              "      border-color: transparent;\n",
              "      border-right-color: var(--fill-color);\n",
              "      border-top-color: var(--fill-color);\n",
              "    }\n",
              "    60% {\n",
              "      border-color: transparent;\n",
              "      border-right-color: var(--fill-color);\n",
              "    }\n",
              "    80% {\n",
              "      border-color: transparent;\n",
              "      border-right-color: var(--fill-color);\n",
              "      border-bottom-color: var(--fill-color);\n",
              "    }\n",
              "    90% {\n",
              "      border-color: transparent;\n",
              "      border-bottom-color: var(--fill-color);\n",
              "    }\n",
              "  }\n",
              "</style>\n",
              "\n",
              "  <script>\n",
              "    async function quickchart(key) {\n",
              "      const quickchartButtonEl =\n",
              "        document.querySelector('#' + key + ' button');\n",
              "      quickchartButtonEl.disabled = true;  // To prevent multiple clicks.\n",
              "      quickchartButtonEl.classList.add('colab-df-spinner');\n",
              "      try {\n",
              "        const charts = await google.colab.kernel.invokeFunction(\n",
              "            'suggestCharts', [key], {});\n",
              "      } catch (error) {\n",
              "        console.error('Error during call to suggestCharts:', error);\n",
              "      }\n",
              "      quickchartButtonEl.classList.remove('colab-df-spinner');\n",
              "      quickchartButtonEl.classList.add('colab-df-quickchart-complete');\n",
              "    }\n",
              "    (() => {\n",
              "      let quickchartButtonEl =\n",
              "        document.querySelector('#df-e9d47bf0-191c-4b1e-8dbf-30cd33849c95 button');\n",
              "      quickchartButtonEl.style.display =\n",
              "        google.colab.kernel.accessAllowed ? 'block' : 'none';\n",
              "    })();\n",
              "  </script>\n",
              "</div>\n",
              "\n",
              "    </div>\n",
              "  </div>\n"
            ]
          },
          "metadata": {},
          "execution_count": 57
        }
      ],
      "source": [
        "data = pd.read_csv(\"/fraud detection csv file.csv\")\n",
        "\n",
        "data.head()"
      ]
    },
    {
      "cell_type": "markdown",
      "id": "57c12210",
      "metadata": {
        "papermill": {
          "duration": 0.028305,
          "end_time": "2022-02-04T02:36:00.386336",
          "exception": false,
          "start_time": "2022-02-04T02:36:00.358031",
          "status": "completed"
        },
        "tags": [],
        "id": "57c12210"
      },
      "source": [
        "#### Exploratory Data Analysis"
      ]
    },
    {
      "cell_type": "code",
      "execution_count": 58,
      "id": "d968a4fe",
      "metadata": {
        "execution": {
          "iopub.execute_input": "2022-02-04T02:36:00.451324Z",
          "iopub.status.busy": "2022-02-04T02:36:00.450608Z",
          "iopub.status.idle": "2022-02-04T02:36:00.455130Z",
          "shell.execute_reply": "2022-02-04T02:36:00.455747Z",
          "shell.execute_reply.started": "2022-02-04T01:56:25.730483Z"
        },
        "papermill": {
          "duration": 0.040841,
          "end_time": "2022-02-04T02:36:00.455930",
          "exception": false,
          "start_time": "2022-02-04T02:36:00.415089",
          "status": "completed"
        },
        "tags": [],
        "id": "d968a4fe",
        "outputId": "c5f5b0a1-6702-488a-cfe4-8df74241a2d9",
        "colab": {
          "base_uri": "https://localhost:8080/"
        }
      },
      "outputs": [
        {
          "output_type": "stream",
          "name": "stdout",
          "text": [
            "Number of records:\t\t 56203\n",
            "Number of features per record:\t 11\n"
          ]
        }
      ],
      "source": [
        "print(\"Number of records:\\t\\t\",data.shape[0])\n",
        "print(\"Number of features per record:\\t\",data.shape[1])"
      ]
    },
    {
      "cell_type": "code",
      "execution_count": 59,
      "id": "90cf4932",
      "metadata": {
        "execution": {
          "iopub.execute_input": "2022-02-04T02:36:00.522515Z",
          "iopub.status.busy": "2022-02-04T02:36:00.521747Z",
          "iopub.status.idle": "2022-02-04T02:36:02.670510Z",
          "shell.execute_reply": "2022-02-04T02:36:02.669354Z",
          "shell.execute_reply.started": "2022-02-04T01:56:26.263899Z"
        },
        "papermill": {
          "duration": 2.184979,
          "end_time": "2022-02-04T02:36:02.670742",
          "exception": false,
          "start_time": "2022-02-04T02:36:00.485763",
          "status": "completed"
        },
        "tags": [],
        "id": "90cf4932",
        "outputId": "e3e98cdc-2c5e-4335-dc7b-13eda44de60b",
        "colab": {
          "base_uri": "https://localhost:8080/"
        }
      },
      "outputs": [
        {
          "output_type": "stream",
          "name": "stdout",
          "text": [
            "Any missing data? True\n"
          ]
        }
      ],
      "source": [
        "print(\"Any missing data?\",data.isnull().sum().any())"
      ]
    },
    {
      "cell_type": "code",
      "execution_count": 60,
      "id": "e2f333d7",
      "metadata": {
        "execution": {
          "iopub.execute_input": "2022-02-04T02:36:02.744689Z",
          "iopub.status.busy": "2022-02-04T02:36:02.737525Z",
          "iopub.status.idle": "2022-02-04T02:36:02.929597Z",
          "shell.execute_reply": "2022-02-04T02:36:02.930123Z",
          "shell.execute_reply.started": "2022-02-04T01:56:27.154739Z"
        },
        "papermill": {
          "duration": 0.226516,
          "end_time": "2022-02-04T02:36:02.930335",
          "exception": false,
          "start_time": "2022-02-04T02:36:02.703819",
          "status": "completed"
        },
        "tags": [],
        "id": "e2f333d7",
        "outputId": "4a9cd952-d12a-43f4-c11b-a402f5dac791",
        "colab": {
          "base_uri": "https://localhost:8080/"
        }
      },
      "outputs": [
        {
          "output_type": "stream",
          "name": "stdout",
          "text": [
            "No of Valid transactions: 56102 which is  99.82 %\n",
            "No of Fraud transactions: 100 which is  0.18 %\n"
          ]
        },
        {
          "output_type": "execute_result",
          "data": {
            "text/plain": [
              "0.0    56102\n",
              "1.0      100\n",
              "Name: isFraud, dtype: int64"
            ]
          },
          "metadata": {},
          "execution_count": 60
        }
      ],
      "source": [
        "#print(\"% of Valid transactions:\",round(data.isFraud.value_counts()[0]/data.shape[0] * 100,2))\n",
        "#print(\"% of Fraud transactions:\",round(data.isFraud.value_counts()[1]/data.shape[0] * 100,2))\n",
        "\n",
        "print(\"No of Valid transactions:\",data.isFraud.value_counts()[0],'which is ',round(data.isFraud.value_counts()[0]/data.shape[0] * 100,2),'%')\n",
        "print(\"No of Fraud transactions:\",data.isFraud.value_counts()[1],'which is ',round(data.isFraud.value_counts()[1]/data.shape[0] * 100,2),'%')\n",
        "\n",
        "data.isFraud.value_counts()"
      ]
    },
    {
      "cell_type": "code",
      "execution_count": 61,
      "id": "7d3adc20",
      "metadata": {
        "execution": {
          "iopub.execute_input": "2022-02-04T02:36:03.031532Z",
          "iopub.status.busy": "2022-02-04T02:36:02.996473Z",
          "iopub.status.idle": "2022-02-04T02:36:03.072085Z",
          "shell.execute_reply": "2022-02-04T02:36:03.071513Z",
          "shell.execute_reply.started": "2022-02-04T01:56:27.343795Z"
        },
        "papermill": {
          "duration": 0.110251,
          "end_time": "2022-02-04T02:36:03.072241",
          "exception": false,
          "start_time": "2022-02-04T02:36:02.961990",
          "status": "completed"
        },
        "tags": [],
        "id": "7d3adc20",
        "outputId": "81964ff4-3a00-432f-94bf-c24c74232c02",
        "colab": {
          "base_uri": "https://localhost:8080/",
          "height": 52
        }
      },
      "outputs": [
        {
          "output_type": "execute_result",
          "data": {
            "text/plain": [
              "'print(\"No of transactions Flagged as Valid:\",data.isFlaggedFraud.value_counts()[0])\\nprint(\"No of transactions Flagged as Fraud:\",data.isFlaggedFraud.value_counts()[1])'"
            ],
            "application/vnd.google.colaboratory.intrinsic+json": {
              "type": "string"
            }
          },
          "metadata": {},
          "execution_count": 61
        }
      ],
      "source": [
        "'''print(\"No of transactions Flagged as Valid:\",data.isFlaggedFraud.value_counts()[0])\n",
        "print(\"No of transactions Flagged as Fraud:\",data.isFlaggedFraud.value_counts()[1])'''"
      ]
    },
    {
      "cell_type": "code",
      "source": [
        "print(\"No of transactions Flagged as Valid:\", data['isFlaggedFraud'].value_counts().get(0, 0))\n",
        "print(\"No of transactions Flagged as Fraud:\", data['isFlaggedFraud'].value_counts().get(1, 0))\n"
      ],
      "metadata": {
        "colab": {
          "base_uri": "https://localhost:8080/"
        },
        "id": "VqAUerktBVhx",
        "outputId": "fef2b2ea-f619-4349-98e6-40c0cce05837"
      },
      "id": "VqAUerktBVhx",
      "execution_count": 62,
      "outputs": [
        {
          "output_type": "stream",
          "name": "stdout",
          "text": [
            "No of transactions Flagged as Valid: 56202\n",
            "No of transactions Flagged as Fraud: 0\n"
          ]
        }
      ]
    },
    {
      "cell_type": "code",
      "execution_count": 63,
      "id": "f16f1035",
      "metadata": {
        "execution": {
          "iopub.execute_input": "2022-02-04T02:36:03.149504Z",
          "iopub.status.busy": "2022-02-04T02:36:03.148373Z",
          "iopub.status.idle": "2022-02-04T02:36:03.281346Z",
          "shell.execute_reply": "2022-02-04T02:36:03.281851Z",
          "shell.execute_reply.started": "2022-02-04T01:56:27.848687Z"
        },
        "papermill": {
          "duration": 0.178942,
          "end_time": "2022-02-04T02:36:03.282060",
          "exception": false,
          "start_time": "2022-02-04T02:36:03.103118",
          "status": "completed"
        },
        "tags": [],
        "id": "f16f1035",
        "outputId": "89201ffd-7c01-4022-a8a2-9caaa9b4a9da",
        "colab": {
          "base_uri": "https://localhost:8080/"
        }
      },
      "outputs": [
        {
          "output_type": "stream",
          "name": "stdout",
          "text": [
            "Are there any mismatch in the balance at origin and destination after transaction?\n",
            "Balance Error(%) at the origin: 78.82\n",
            "Balance Error(%) at the destination: 93.68\n"
          ]
        }
      ],
      "source": [
        "print(\"Are there any mismatch in the balance at origin and destination after transaction?\")\n",
        "data['error_orig'] = (data[\"oldbalanceOrg\"] - data[\"amount\"] != data[\"newbalanceOrig\"]).astype(int)\n",
        "data['error_dest'] = (data[\"oldbalanceDest\"] + data[\"amount\"] != data[\"newbalanceDest\"]).astype(int)\n",
        "\n",
        "print(\"Balance Error(%) at the origin:\",round(data['error_orig'].value_counts()[1]/data.shape[0] * 100,2))\n",
        "print(\"Balance Error(%) at the destination:\",round(data['error_dest'].value_counts()[1]/data.shape[0] * 100,2))\n",
        "\n",
        "#print(\"Valid Balance(%) at the origin:\",round(data['error_orig'].value_counts()[0]/data.shape[0] * 100,2))\n",
        "#print(\"Valid Balance(%) at the dest:\",round(data['error_dest'].value_counts()[0]/data.shape[0] * 100,2))"
      ]
    },
    {
      "cell_type": "markdown",
      "id": "b5193a59",
      "metadata": {
        "papermill": {
          "duration": 0.032413,
          "end_time": "2022-02-04T02:36:03.346124",
          "exception": false,
          "start_time": "2022-02-04T02:36:03.313711",
          "status": "completed"
        },
        "tags": [],
        "id": "b5193a59"
      },
      "source": [
        "##### Appears the Fraud occurs both at sending and receiving ends"
      ]
    },
    {
      "cell_type": "code",
      "execution_count": 64,
      "id": "9ae5fb8c",
      "metadata": {
        "execution": {
          "iopub.execute_input": "2022-02-04T02:36:03.422849Z",
          "iopub.status.busy": "2022-02-04T02:36:03.421759Z",
          "iopub.status.idle": "2022-02-04T02:36:03.660816Z",
          "shell.execute_reply": "2022-02-04T02:36:03.661395Z",
          "shell.execute_reply.started": "2022-02-04T01:57:01.810938Z"
        },
        "papermill": {
          "duration": 0.2835,
          "end_time": "2022-02-04T02:36:03.661578",
          "exception": false,
          "start_time": "2022-02-04T02:36:03.378078",
          "status": "completed"
        },
        "tags": [],
        "id": "9ae5fb8c",
        "outputId": "0438d169-579b-43ec-e60d-7bf420d852be",
        "colab": {
          "base_uri": "https://localhost:8080/",
          "height": 87
        }
      },
      "outputs": [
        {
          "output_type": "execute_result",
          "data": {
            "text/plain": [
              "'print(\"Any transaction with amount less than or equal to 0?\")\\nprint(len(data[data.amount<=0]))\\nprint(\"What type of transactions are they?\")\\nprint(data[data.amount<=0][\\'type\\'].value_counts().index[0])\\nprint(\"Are all these marked as Fraud Transactions?\")\\ndata[data.amount<=0][\\'isFraud\\'].value_counts()[1] == len(data[data.amount<=0])'"
            ],
            "application/vnd.google.colaboratory.intrinsic+json": {
              "type": "string"
            }
          },
          "metadata": {},
          "execution_count": 64
        }
      ],
      "source": [
        "'''print(\"Any transaction with amount less than or equal to 0?\")\n",
        "print(len(data[data.amount<=0]))\n",
        "print(\"What type of transactions are they?\")\n",
        "print(data[data.amount<=0]['type'].value_counts().index[0])\n",
        "print(\"Are all these marked as Fraud Transactions?\")\n",
        "data[data.amount<=0]['isFraud'].value_counts()[1] == len(data[data.amount<=0])'''"
      ]
    },
    {
      "cell_type": "code",
      "source": [
        "print(\"Any transaction with amount less than or equal to 0?\")\n",
        "amount_less_than_or_equal_to_zero = data[data.amount <= 0]\n",
        "\n",
        "if not amount_less_than_or_equal_to_zero.empty:\n",
        "    print(len(amount_less_than_or_equal_to_zero))\n",
        "\n",
        "    print(\"What type of transactions are they?\")\n",
        "    most_common_type = amount_less_than_or_equal_to_zero['type'].value_counts().index[0]\n",
        "    print(most_common_type)\n",
        "\n",
        "    print(\"Are all these marked as Fraud Transactions?\")\n",
        "    all_fraud = amount_less_than_or_equal_to_zero['isFraud'].all()\n",
        "    print(all_fraud)\n",
        "else:\n",
        "    print(\"No\")\n"
      ],
      "metadata": {
        "colab": {
          "base_uri": "https://localhost:8080/"
        },
        "id": "ZU7xSOAZCTe1",
        "outputId": "3b01fca6-c2af-4979-fbda-162c58bec02d"
      },
      "id": "ZU7xSOAZCTe1",
      "execution_count": 65,
      "outputs": [
        {
          "output_type": "stream",
          "name": "stdout",
          "text": [
            "Any transaction with amount less than or equal to 0?\n",
            "No\n"
          ]
        }
      ]
    },
    {
      "cell_type": "code",
      "execution_count": 67,
      "id": "43221524",
      "metadata": {
        "execution": {
          "iopub.execute_input": "2022-02-04T02:36:03.739012Z",
          "iopub.status.busy": "2022-02-04T02:36:03.737839Z",
          "iopub.status.idle": "2022-02-04T02:36:03.749160Z",
          "shell.execute_reply": "2022-02-04T02:36:03.749685Z",
          "shell.execute_reply.started": "2022-02-04T01:57:03.105773Z"
        },
        "papermill": {
          "duration": 0.05548,
          "end_time": "2022-02-04T02:36:03.749861",
          "exception": false,
          "start_time": "2022-02-04T02:36:03.694381",
          "status": "completed"
        },
        "tags": [],
        "id": "43221524",
        "outputId": "051c72fa-0b5c-4519-ec36-e137864b2974",
        "colab": {
          "base_uri": "https://localhost:8080/"
        }
      },
      "outputs": [
        {
          "output_type": "stream",
          "name": "stdout",
          "text": [
            "How many fraud transactions are Flagged?\n",
            "\t 0\n",
            "No transactions flagged as fraud.\n"
          ]
        }
      ],
      "source": [
        "data_temp = data[data.isFlaggedFraud == 1]\n",
        "\n",
        "print(\"How many fraud transactions are Flagged?\")\n",
        "print(\"\\t\", len(data_temp))\n",
        "\n",
        "if not data_temp.empty:\n",
        "    print(\"What type of transactions are they?\")\n",
        "    most_common_type = data_temp['type'].value_counts().index[0]\n",
        "    print(\"\\t\", most_common_type)\n",
        "\n",
        "    print(\"Are all these flagged also marked as Fraud Transactions?\")\n",
        "    all_fraud = data_temp['isFraud'].value_counts().get(1, 0) == len(data_temp)\n",
        "    print(\"\\t\", all_fraud)\n",
        "\n",
        "    print(\"Minimum amount transferred in these transactions\")\n",
        "    print(\"\\t\", data_temp.amount.min())\n",
        "\n",
        "    print(\"Maximum amount transferred in these transactions\")\n",
        "    print(\"\\t\", data_temp.amount.max())\n",
        "else:\n",
        "    print(\"No transactions flagged as fraud.\")\n"
      ]
    },
    {
      "cell_type": "markdown",
      "id": "0f81e33b",
      "metadata": {
        "papermill": {
          "duration": 0.034329,
          "end_time": "2022-02-04T02:36:03.817629",
          "exception": false,
          "start_time": "2022-02-04T02:36:03.783300",
          "status": "completed"
        },
        "tags": [],
        "id": "0f81e33b"
      },
      "source": [
        "### All the fraud trnasactions belong to Transfer or Cash-out type, so discard data corresponding to other types"
      ]
    },
    {
      "cell_type": "code",
      "execution_count": 68,
      "id": "aef01eac",
      "metadata": {
        "execution": {
          "iopub.execute_input": "2022-02-04T02:36:03.888556Z",
          "iopub.status.busy": "2022-02-04T02:36:03.887500Z",
          "iopub.status.idle": "2022-02-04T02:36:04.558742Z",
          "shell.execute_reply": "2022-02-04T02:36:04.559222Z",
          "shell.execute_reply.started": "2022-02-04T01:57:06.789526Z"
        },
        "papermill": {
          "duration": 0.708514,
          "end_time": "2022-02-04T02:36:04.559415",
          "exception": false,
          "start_time": "2022-02-04T02:36:03.850901",
          "status": "completed"
        },
        "tags": [],
        "id": "aef01eac",
        "outputId": "f2310e4f-b8d3-4d13-fbc7-2be1e7ac9427",
        "colab": {
          "base_uri": "https://localhost:8080/",
          "height": 226
        }
      },
      "outputs": [
        {
          "output_type": "execute_result",
          "data": {
            "text/plain": [
              "    step      type     amount     nameOrig  oldbalanceOrg  newbalanceOrig  \\\n",
              "2      1  TRANSFER     181.00  C1305486145          181.0             0.0   \n",
              "3      1  CASH_OUT     181.00   C840083671          181.0             0.0   \n",
              "15     1  CASH_OUT  229133.94   C905080434        15325.0             0.0   \n",
              "19     1  TRANSFER  215310.30  C1670993182          705.0             0.0   \n",
              "24     1  TRANSFER  311685.89  C1984094095        10835.0             0.0   \n",
              "\n",
              "       nameDest  oldbalanceDest  newbalanceDest  isFraud  isFlaggedFraud  \\\n",
              "2    C553264065             0.0            0.00      1.0             0.0   \n",
              "3     C38997010         21182.0            0.00      1.0             0.0   \n",
              "15   C476402209          5083.0        51513.44      0.0             0.0   \n",
              "19  C1100439041         22425.0            0.00      0.0             0.0   \n",
              "24   C932583850          6267.0      2719172.89      0.0             0.0   \n",
              "\n",
              "    error_orig  error_dest  \n",
              "2            0           1  \n",
              "3            0           1  \n",
              "15           1           1  \n",
              "19           1           1  \n",
              "24           1           1  "
            ],
            "text/html": [
              "\n",
              "  <div id=\"df-966afa50-a09a-4dd5-ba85-3e472bd626fe\" class=\"colab-df-container\">\n",
              "    <div>\n",
              "<style scoped>\n",
              "    .dataframe tbody tr th:only-of-type {\n",
              "        vertical-align: middle;\n",
              "    }\n",
              "\n",
              "    .dataframe tbody tr th {\n",
              "        vertical-align: top;\n",
              "    }\n",
              "\n",
              "    .dataframe thead th {\n",
              "        text-align: right;\n",
              "    }\n",
              "</style>\n",
              "<table border=\"1\" class=\"dataframe\">\n",
              "  <thead>\n",
              "    <tr style=\"text-align: right;\">\n",
              "      <th></th>\n",
              "      <th>step</th>\n",
              "      <th>type</th>\n",
              "      <th>amount</th>\n",
              "      <th>nameOrig</th>\n",
              "      <th>oldbalanceOrg</th>\n",
              "      <th>newbalanceOrig</th>\n",
              "      <th>nameDest</th>\n",
              "      <th>oldbalanceDest</th>\n",
              "      <th>newbalanceDest</th>\n",
              "      <th>isFraud</th>\n",
              "      <th>isFlaggedFraud</th>\n",
              "      <th>error_orig</th>\n",
              "      <th>error_dest</th>\n",
              "    </tr>\n",
              "  </thead>\n",
              "  <tbody>\n",
              "    <tr>\n",
              "      <th>2</th>\n",
              "      <td>1</td>\n",
              "      <td>TRANSFER</td>\n",
              "      <td>181.00</td>\n",
              "      <td>C1305486145</td>\n",
              "      <td>181.0</td>\n",
              "      <td>0.0</td>\n",
              "      <td>C553264065</td>\n",
              "      <td>0.0</td>\n",
              "      <td>0.00</td>\n",
              "      <td>1.0</td>\n",
              "      <td>0.0</td>\n",
              "      <td>0</td>\n",
              "      <td>1</td>\n",
              "    </tr>\n",
              "    <tr>\n",
              "      <th>3</th>\n",
              "      <td>1</td>\n",
              "      <td>CASH_OUT</td>\n",
              "      <td>181.00</td>\n",
              "      <td>C840083671</td>\n",
              "      <td>181.0</td>\n",
              "      <td>0.0</td>\n",
              "      <td>C38997010</td>\n",
              "      <td>21182.0</td>\n",
              "      <td>0.00</td>\n",
              "      <td>1.0</td>\n",
              "      <td>0.0</td>\n",
              "      <td>0</td>\n",
              "      <td>1</td>\n",
              "    </tr>\n",
              "    <tr>\n",
              "      <th>15</th>\n",
              "      <td>1</td>\n",
              "      <td>CASH_OUT</td>\n",
              "      <td>229133.94</td>\n",
              "      <td>C905080434</td>\n",
              "      <td>15325.0</td>\n",
              "      <td>0.0</td>\n",
              "      <td>C476402209</td>\n",
              "      <td>5083.0</td>\n",
              "      <td>51513.44</td>\n",
              "      <td>0.0</td>\n",
              "      <td>0.0</td>\n",
              "      <td>1</td>\n",
              "      <td>1</td>\n",
              "    </tr>\n",
              "    <tr>\n",
              "      <th>19</th>\n",
              "      <td>1</td>\n",
              "      <td>TRANSFER</td>\n",
              "      <td>215310.30</td>\n",
              "      <td>C1670993182</td>\n",
              "      <td>705.0</td>\n",
              "      <td>0.0</td>\n",
              "      <td>C1100439041</td>\n",
              "      <td>22425.0</td>\n",
              "      <td>0.00</td>\n",
              "      <td>0.0</td>\n",
              "      <td>0.0</td>\n",
              "      <td>1</td>\n",
              "      <td>1</td>\n",
              "    </tr>\n",
              "    <tr>\n",
              "      <th>24</th>\n",
              "      <td>1</td>\n",
              "      <td>TRANSFER</td>\n",
              "      <td>311685.89</td>\n",
              "      <td>C1984094095</td>\n",
              "      <td>10835.0</td>\n",
              "      <td>0.0</td>\n",
              "      <td>C932583850</td>\n",
              "      <td>6267.0</td>\n",
              "      <td>2719172.89</td>\n",
              "      <td>0.0</td>\n",
              "      <td>0.0</td>\n",
              "      <td>1</td>\n",
              "      <td>1</td>\n",
              "    </tr>\n",
              "  </tbody>\n",
              "</table>\n",
              "</div>\n",
              "    <div class=\"colab-df-buttons\">\n",
              "\n",
              "  <div class=\"colab-df-container\">\n",
              "    <button class=\"colab-df-convert\" onclick=\"convertToInteractive('df-966afa50-a09a-4dd5-ba85-3e472bd626fe')\"\n",
              "            title=\"Convert this dataframe to an interactive table.\"\n",
              "            style=\"display:none;\">\n",
              "\n",
              "  <svg xmlns=\"http://www.w3.org/2000/svg\" height=\"24px\" viewBox=\"0 -960 960 960\">\n",
              "    <path d=\"M120-120v-720h720v720H120Zm60-500h600v-160H180v160Zm220 220h160v-160H400v160Zm0 220h160v-160H400v160ZM180-400h160v-160H180v160Zm440 0h160v-160H620v160ZM180-180h160v-160H180v160Zm440 0h160v-160H620v160Z\"/>\n",
              "  </svg>\n",
              "    </button>\n",
              "\n",
              "  <style>\n",
              "    .colab-df-container {\n",
              "      display:flex;\n",
              "      gap: 12px;\n",
              "    }\n",
              "\n",
              "    .colab-df-convert {\n",
              "      background-color: #E8F0FE;\n",
              "      border: none;\n",
              "      border-radius: 50%;\n",
              "      cursor: pointer;\n",
              "      display: none;\n",
              "      fill: #1967D2;\n",
              "      height: 32px;\n",
              "      padding: 0 0 0 0;\n",
              "      width: 32px;\n",
              "    }\n",
              "\n",
              "    .colab-df-convert:hover {\n",
              "      background-color: #E2EBFA;\n",
              "      box-shadow: 0px 1px 2px rgba(60, 64, 67, 0.3), 0px 1px 3px 1px rgba(60, 64, 67, 0.15);\n",
              "      fill: #174EA6;\n",
              "    }\n",
              "\n",
              "    .colab-df-buttons div {\n",
              "      margin-bottom: 4px;\n",
              "    }\n",
              "\n",
              "    [theme=dark] .colab-df-convert {\n",
              "      background-color: #3B4455;\n",
              "      fill: #D2E3FC;\n",
              "    }\n",
              "\n",
              "    [theme=dark] .colab-df-convert:hover {\n",
              "      background-color: #434B5C;\n",
              "      box-shadow: 0px 1px 3px 1px rgba(0, 0, 0, 0.15);\n",
              "      filter: drop-shadow(0px 1px 2px rgba(0, 0, 0, 0.3));\n",
              "      fill: #FFFFFF;\n",
              "    }\n",
              "  </style>\n",
              "\n",
              "    <script>\n",
              "      const buttonEl =\n",
              "        document.querySelector('#df-966afa50-a09a-4dd5-ba85-3e472bd626fe button.colab-df-convert');\n",
              "      buttonEl.style.display =\n",
              "        google.colab.kernel.accessAllowed ? 'block' : 'none';\n",
              "\n",
              "      async function convertToInteractive(key) {\n",
              "        const element = document.querySelector('#df-966afa50-a09a-4dd5-ba85-3e472bd626fe');\n",
              "        const dataTable =\n",
              "          await google.colab.kernel.invokeFunction('convertToInteractive',\n",
              "                                                    [key], {});\n",
              "        if (!dataTable) return;\n",
              "\n",
              "        const docLinkHtml = 'Like what you see? Visit the ' +\n",
              "          '<a target=\"_blank\" href=https://colab.research.google.com/notebooks/data_table.ipynb>data table notebook</a>'\n",
              "          + ' to learn more about interactive tables.';\n",
              "        element.innerHTML = '';\n",
              "        dataTable['output_type'] = 'display_data';\n",
              "        await google.colab.output.renderOutput(dataTable, element);\n",
              "        const docLink = document.createElement('div');\n",
              "        docLink.innerHTML = docLinkHtml;\n",
              "        element.appendChild(docLink);\n",
              "      }\n",
              "    </script>\n",
              "  </div>\n",
              "\n",
              "\n",
              "<div id=\"df-52807707-92b3-4e10-aad1-7ae4c4f7ce7e\">\n",
              "  <button class=\"colab-df-quickchart\" onclick=\"quickchart('df-52807707-92b3-4e10-aad1-7ae4c4f7ce7e')\"\n",
              "            title=\"Suggest charts\"\n",
              "            style=\"display:none;\">\n",
              "\n",
              "<svg xmlns=\"http://www.w3.org/2000/svg\" height=\"24px\"viewBox=\"0 0 24 24\"\n",
              "     width=\"24px\">\n",
              "    <g>\n",
              "        <path d=\"M19 3H5c-1.1 0-2 .9-2 2v14c0 1.1.9 2 2 2h14c1.1 0 2-.9 2-2V5c0-1.1-.9-2-2-2zM9 17H7v-7h2v7zm4 0h-2V7h2v10zm4 0h-2v-4h2v4z\"/>\n",
              "    </g>\n",
              "</svg>\n",
              "  </button>\n",
              "\n",
              "<style>\n",
              "  .colab-df-quickchart {\n",
              "      --bg-color: #E8F0FE;\n",
              "      --fill-color: #1967D2;\n",
              "      --hover-bg-color: #E2EBFA;\n",
              "      --hover-fill-color: #174EA6;\n",
              "      --disabled-fill-color: #AAA;\n",
              "      --disabled-bg-color: #DDD;\n",
              "  }\n",
              "\n",
              "  [theme=dark] .colab-df-quickchart {\n",
              "      --bg-color: #3B4455;\n",
              "      --fill-color: #D2E3FC;\n",
              "      --hover-bg-color: #434B5C;\n",
              "      --hover-fill-color: #FFFFFF;\n",
              "      --disabled-bg-color: #3B4455;\n",
              "      --disabled-fill-color: #666;\n",
              "  }\n",
              "\n",
              "  .colab-df-quickchart {\n",
              "    background-color: var(--bg-color);\n",
              "    border: none;\n",
              "    border-radius: 50%;\n",
              "    cursor: pointer;\n",
              "    display: none;\n",
              "    fill: var(--fill-color);\n",
              "    height: 32px;\n",
              "    padding: 0;\n",
              "    width: 32px;\n",
              "  }\n",
              "\n",
              "  .colab-df-quickchart:hover {\n",
              "    background-color: var(--hover-bg-color);\n",
              "    box-shadow: 0 1px 2px rgba(60, 64, 67, 0.3), 0 1px 3px 1px rgba(60, 64, 67, 0.15);\n",
              "    fill: var(--button-hover-fill-color);\n",
              "  }\n",
              "\n",
              "  .colab-df-quickchart-complete:disabled,\n",
              "  .colab-df-quickchart-complete:disabled:hover {\n",
              "    background-color: var(--disabled-bg-color);\n",
              "    fill: var(--disabled-fill-color);\n",
              "    box-shadow: none;\n",
              "  }\n",
              "\n",
              "  .colab-df-spinner {\n",
              "    border: 2px solid var(--fill-color);\n",
              "    border-color: transparent;\n",
              "    border-bottom-color: var(--fill-color);\n",
              "    animation:\n",
              "      spin 1s steps(1) infinite;\n",
              "  }\n",
              "\n",
              "  @keyframes spin {\n",
              "    0% {\n",
              "      border-color: transparent;\n",
              "      border-bottom-color: var(--fill-color);\n",
              "      border-left-color: var(--fill-color);\n",
              "    }\n",
              "    20% {\n",
              "      border-color: transparent;\n",
              "      border-left-color: var(--fill-color);\n",
              "      border-top-color: var(--fill-color);\n",
              "    }\n",
              "    30% {\n",
              "      border-color: transparent;\n",
              "      border-left-color: var(--fill-color);\n",
              "      border-top-color: var(--fill-color);\n",
              "      border-right-color: var(--fill-color);\n",
              "    }\n",
              "    40% {\n",
              "      border-color: transparent;\n",
              "      border-right-color: var(--fill-color);\n",
              "      border-top-color: var(--fill-color);\n",
              "    }\n",
              "    60% {\n",
              "      border-color: transparent;\n",
              "      border-right-color: var(--fill-color);\n",
              "    }\n",
              "    80% {\n",
              "      border-color: transparent;\n",
              "      border-right-color: var(--fill-color);\n",
              "      border-bottom-color: var(--fill-color);\n",
              "    }\n",
              "    90% {\n",
              "      border-color: transparent;\n",
              "      border-bottom-color: var(--fill-color);\n",
              "    }\n",
              "  }\n",
              "</style>\n",
              "\n",
              "  <script>\n",
              "    async function quickchart(key) {\n",
              "      const quickchartButtonEl =\n",
              "        document.querySelector('#' + key + ' button');\n",
              "      quickchartButtonEl.disabled = true;  // To prevent multiple clicks.\n",
              "      quickchartButtonEl.classList.add('colab-df-spinner');\n",
              "      try {\n",
              "        const charts = await google.colab.kernel.invokeFunction(\n",
              "            'suggestCharts', [key], {});\n",
              "      } catch (error) {\n",
              "        console.error('Error during call to suggestCharts:', error);\n",
              "      }\n",
              "      quickchartButtonEl.classList.remove('colab-df-spinner');\n",
              "      quickchartButtonEl.classList.add('colab-df-quickchart-complete');\n",
              "    }\n",
              "    (() => {\n",
              "      let quickchartButtonEl =\n",
              "        document.querySelector('#df-52807707-92b3-4e10-aad1-7ae4c4f7ce7e button');\n",
              "      quickchartButtonEl.style.display =\n",
              "        google.colab.kernel.accessAllowed ? 'block' : 'none';\n",
              "    })();\n",
              "  </script>\n",
              "</div>\n",
              "\n",
              "    </div>\n",
              "  </div>\n"
            ]
          },
          "metadata": {},
          "execution_count": 68
        }
      ],
      "source": [
        "data = data.loc[(data['type'].isin(['TRANSFER', 'CASH_OUT']))]\n",
        "data.head()"
      ]
    },
    {
      "cell_type": "markdown",
      "id": "7e335fd0",
      "metadata": {
        "papermill": {
          "duration": 0.033855,
          "end_time": "2022-02-04T02:36:04.627388",
          "exception": false,
          "start_time": "2022-02-04T02:36:04.593533",
          "status": "completed"
        },
        "tags": [],
        "id": "7e335fd0"
      },
      "source": [
        "## Data Visualization"
      ]
    },
    {
      "cell_type": "code",
      "execution_count": 69,
      "id": "2d06f9d2",
      "metadata": {
        "execution": {
          "iopub.execute_input": "2022-02-04T02:36:04.700521Z",
          "iopub.status.busy": "2022-02-04T02:36:04.699465Z",
          "iopub.status.idle": "2022-02-04T02:36:05.755507Z",
          "shell.execute_reply": "2022-02-04T02:36:05.756272Z",
          "shell.execute_reply.started": "2022-02-04T01:57:10.122144Z"
        },
        "papermill": {
          "duration": 1.095071,
          "end_time": "2022-02-04T02:36:05.756475",
          "exception": false,
          "start_time": "2022-02-04T02:36:04.661404",
          "status": "completed"
        },
        "tags": [],
        "id": "2d06f9d2",
        "outputId": "86cfe464-e0fd-4aa2-c389-883fbc63d96c",
        "colab": {
          "base_uri": "https://localhost:8080/",
          "height": 680
        }
      },
      "outputs": [
        {
          "output_type": "display_data",
          "data": {
            "text/plain": [
              "<Figure size 1000x800 with 1 Axes>"
            ],
            "image/png": "[encoded data removed]"
          },
          "metadata": {}
        }
      ],
      "source": [
        "#create pie chart\n",
        "plt.figure(figsize=(10,8))\n",
        "plt.pie(data.type.value_counts().values,labels=data.type.value_counts().index,  autopct='%.0f%%')\n",
        "plt.title(\"Transaction Type\")\n",
        "plt.show()"
      ]
    },
    {
      "cell_type": "code",
      "execution_count": 70,
      "id": "d71d908a",
      "metadata": {
        "execution": {
          "iopub.execute_input": "2022-02-04T02:36:05.875991Z",
          "iopub.status.busy": "2022-02-04T02:36:05.875230Z",
          "iopub.status.idle": "2022-02-04T02:36:06.183620Z",
          "shell.execute_reply": "2022-02-04T02:36:06.184196Z",
          "shell.execute_reply.started": "2022-02-04T01:59:41.154013Z"
        },
        "papermill": {
          "duration": 0.392693,
          "end_time": "2022-02-04T02:36:06.184390",
          "exception": false,
          "start_time": "2022-02-04T02:36:05.791697",
          "status": "completed"
        },
        "tags": [],
        "id": "d71d908a",
        "outputId": "101d5ba4-a8ba-4cfa-e01f-6de6fd336305",
        "colab": {
          "base_uri": "https://localhost:8080/",
          "height": 746
        }
      },
      "outputs": [
        {
          "output_type": "display_data",
          "data": {
            "text/plain": [
              "<Figure size 1000x800 with 1 Axes>"
            ],
            "image/png": "[encoded data removed]"
          },
          "metadata": {}
        }
      ],
      "source": [
        "d = data.groupby('type')['amount'].sum()\n",
        "plt.figure(figsize=(10,8))\n",
        "ax = sns.barplot(x=d.index,y=d.values)\n",
        "for p in ax.patches:\n",
        "    ax.annotate(str(format(int(p.get_height()), ',d')), (p.get_x()+0.24, p.get_height()*1.01))\n",
        "\n",
        "plt.title(\"Total amount in each transaction type\")\n",
        "plt.yticks([])\n",
        "plt.xlabel(\"Transaction Type\")\n",
        "plt.show()"
      ]
    },
    {
      "cell_type": "code",
      "execution_count": 71,
      "id": "d3396f49",
      "metadata": {
        "execution": {
          "iopub.execute_input": "2022-02-04T02:36:06.266136Z",
          "iopub.status.busy": "2022-02-04T02:36:06.260044Z",
          "iopub.status.idle": "2022-02-04T02:36:06.755485Z",
          "shell.execute_reply": "2022-02-04T02:36:06.755936Z",
          "shell.execute_reply.started": "2022-02-04T02:00:20.630007Z"
        },
        "papermill": {
          "duration": 0.53545,
          "end_time": "2022-02-04T02:36:06.756165",
          "exception": false,
          "start_time": "2022-02-04T02:36:06.220715",
          "status": "completed"
        },
        "tags": [],
        "id": "d3396f49",
        "outputId": "fe16ca63-baf2-4c6d-a33c-e65546832262",
        "colab": {
          "base_uri": "https://localhost:8080/",
          "height": 875
        }
      },
      "outputs": [
        {
          "output_type": "display_data",
          "data": {
            "text/plain": [
              "<Figure size 1000x800 with 1 Axes>"
            ],
            "image/png": "[encoded data removed]"
          },
          "metadata": {}
        }
      ],
      "source": [
        "plt.figure(figsize=(10,8))\n",
        "ax = data.groupby(['type','isFraud']).size().plot(kind='bar')\n",
        "\n",
        "for p in ax.patches:\n",
        "    ax.annotate(str(format(int(p.get_height()), ',d')), (p.get_x(), p.get_height()*1.01))\n",
        "plt.title(\"Fradulent Transactions\")\n",
        "plt.xlabel(\"Transaction Type\")\n",
        "plt.yticks([])\n",
        "#plt.xticks([' Valid CashOut','Fraud CashOut','Valid Transfer','Fraud Transfer'])\n",
        "plt.xticks(rotation=45)\n",
        "plt.show()"
      ]
    },
    {
      "cell_type": "markdown",
      "id": "404b82da",
      "metadata": {
        "execution": {
          "iopub.execute_input": "2022-02-04T01:01:56.191149Z",
          "iopub.status.busy": "2022-02-04T01:01:56.190424Z",
          "iopub.status.idle": "2022-02-04T01:01:56.195623Z",
          "shell.execute_reply": "2022-02-04T01:01:56.194979Z",
          "shell.execute_reply.started": "2022-02-04T01:01:56.191103Z"
        },
        "papermill": {
          "duration": 0.037572,
          "end_time": "2022-02-04T02:36:06.831044",
          "exception": false,
          "start_time": "2022-02-04T02:36:06.793472",
          "status": "completed"
        },
        "tags": [],
        "id": "404b82da"
      },
      "source": [
        "#### Delete unwanted features (Remove isFlaggedFraud and keep isFraud as target feature)"
      ]
    },
    {
      "cell_type": "code",
      "execution_count": 72,
      "id": "1d5b3681",
      "metadata": {
        "execution": {
          "iopub.execute_input": "2022-02-04T02:36:06.910585Z",
          "iopub.status.busy": "2022-02-04T02:36:06.909850Z",
          "iopub.status.idle": "2022-02-04T02:36:06.967694Z",
          "shell.execute_reply": "2022-02-04T02:36:06.968353Z",
          "shell.execute_reply.started": "2022-02-04T02:00:34.153197Z"
        },
        "papermill": {
          "duration": 0.100418,
          "end_time": "2022-02-04T02:36:06.968537",
          "exception": false,
          "start_time": "2022-02-04T02:36:06.868119",
          "status": "completed"
        },
        "tags": [],
        "id": "1d5b3681",
        "outputId": "b4a53510-c3b7-4bf9-a173-9b3157252dac",
        "colab": {
          "base_uri": "https://localhost:8080/",
          "height": 206
        }
      },
      "outputs": [
        {
          "output_type": "execute_result",
          "data": {
            "text/plain": [
              "       amount  oldbalanceOrg  newbalanceOrig  oldbalanceDest  newbalanceDest  \\\n",
              "2      181.00          181.0             0.0             0.0            0.00   \n",
              "3      181.00          181.0             0.0         21182.0            0.00   \n",
              "15  229133.94        15325.0             0.0          5083.0        51513.44   \n",
              "19  215310.30          705.0             0.0         22425.0            0.00   \n",
              "24  311685.89        10835.0             0.0          6267.0      2719172.89   \n",
              "\n",
              "    isFraud  \n",
              "2       1.0  \n",
              "3       1.0  \n",
              "15      0.0  \n",
              "19      0.0  \n",
              "24      0.0  "
            ],
            "text/html": [
              "\n",
              "  <div id=\"df-28358285-da82-4aab-b339-97775c9c1c3f\" class=\"colab-df-container\">\n",
              "    <div>\n",
              "<style scoped>\n",
              "    .dataframe tbody tr th:only-of-type {\n",
              "        vertical-align: middle;\n",
              "    }\n",
              "\n",
              "    .dataframe tbody tr th {\n",
              "        vertical-align: top;\n",
              "    }\n",
              "\n",
              "    .dataframe thead th {\n",
              "        text-align: right;\n",
              "    }\n",
              "</style>\n",
              "<table border=\"1\" class=\"dataframe\">\n",
              "  <thead>\n",
              "    <tr style=\"text-align: right;\">\n",
              "      <th></th>\n",
              "      <th>amount</th>\n",
              "      <th>oldbalanceOrg</th>\n",
              "      <th>newbalanceOrig</th>\n",
              "      <th>oldbalanceDest</th>\n",
              "      <th>newbalanceDest</th>\n",
              "      <th>isFraud</th>\n",
              "    </tr>\n",
              "  </thead>\n",
              "  <tbody>\n",
              "    <tr>\n",
              "      <th>2</th>\n",
              "      <td>181.00</td>\n",
              "      <td>181.0</td>\n",
              "      <td>0.0</td>\n",
              "      <td>0.0</td>\n",
              "      <td>0.00</td>\n",
              "      <td>1.0</td>\n",
              "    </tr>\n",
              "    <tr>\n",
              "      <th>3</th>\n",
              "      <td>181.00</td>\n",
              "      <td>181.0</td>\n",
              "      <td>0.0</td>\n",
              "      <td>21182.0</td>\n",
              "      <td>0.00</td>\n",
              "      <td>1.0</td>\n",
              "    </tr>\n",
              "    <tr>\n",
              "      <th>15</th>\n",
              "      <td>229133.94</td>\n",
              "      <td>15325.0</td>\n",
              "      <td>0.0</td>\n",
              "      <td>5083.0</td>\n",
              "      <td>51513.44</td>\n",
              "      <td>0.0</td>\n",
              "    </tr>\n",
              "    <tr>\n",
              "      <th>19</th>\n",
              "      <td>215310.30</td>\n",
              "      <td>705.0</td>\n",
              "      <td>0.0</td>\n",
              "      <td>22425.0</td>\n",
              "      <td>0.00</td>\n",
              "      <td>0.0</td>\n",
              "    </tr>\n",
              "    <tr>\n",
              "      <th>24</th>\n",
              "      <td>311685.89</td>\n",
              "      <td>10835.0</td>\n",
              "      <td>0.0</td>\n",
              "      <td>6267.0</td>\n",
              "      <td>2719172.89</td>\n",
              "      <td>0.0</td>\n",
              "    </tr>\n",
              "  </tbody>\n",
              "</table>\n",
              "</div>\n",
              "    <div class=\"colab-df-buttons\">\n",
              "\n",
              "  <div class=\"colab-df-container\">\n",
              "    <button class=\"colab-df-convert\" onclick=\"convertToInteractive('df-28358285-da82-4aab-b339-97775c9c1c3f')\"\n",
              "            title=\"Convert this dataframe to an interactive table.\"\n",
              "            style=\"display:none;\">\n",
              "\n",
              "  <svg xmlns=\"http://www.w3.org/2000/svg\" height=\"24px\" viewBox=\"0 -960 960 960\">\n",
              "    <path d=\"M120-120v-720h720v720H120Zm60-500h600v-160H180v160Zm220 220h160v-160H400v160Zm0 220h160v-160H400v160ZM180-400h160v-160H180v160Zm440 0h160v-160H620v160ZM180-180h160v-160H180v160Zm440 0h160v-160H620v160Z\"/>\n",
              "  </svg>\n",
              "    </button>\n",
              "\n",
              "  <style>\n",
              "    .colab-df-container {\n",
              "      display:flex;\n",
              "      gap: 12px;\n",
              "    }\n",
              "\n",
              "    .colab-df-convert {\n",
              "      background-color: #E8F0FE;\n",
              "      border: none;\n",
              "      border-radius: 50%;\n",
              "      cursor: pointer;\n",
              "      display: none;\n",
              "      fill: #1967D2;\n",
              "      height: 32px;\n",
              "      padding: 0 0 0 0;\n",
              "      width: 32px;\n",
              "    }\n",
              "\n",
              "    .colab-df-convert:hover {\n",
              "      background-color: #E2EBFA;\n",
              "      box-shadow: 0px 1px 2px rgba(60, 64, 67, 0.3), 0px 1px 3px 1px rgba(60, 64, 67, 0.15);\n",
              "      fill: #174EA6;\n",
              "    }\n",
              "\n",
              "    .colab-df-buttons div {\n",
              "      margin-bottom: 4px;\n",
              "    }\n",
              "\n",
              "    [theme=dark] .colab-df-convert {\n",
              "      background-color: #3B4455;\n",
              "      fill: #D2E3FC;\n",
              "    }\n",
              "\n",
              "    [theme=dark] .colab-df-convert:hover {\n",
              "      background-color: #434B5C;\n",
              "      box-shadow: 0px 1px 3px 1px rgba(0, 0, 0, 0.15);\n",
              "      filter: drop-shadow(0px 1px 2px rgba(0, 0, 0, 0.3));\n",
              "      fill: #FFFFFF;\n",
              "    }\n",
              "  </style>\n",
              "\n",
              "    <script>\n",
              "      const buttonEl =\n",
              "        document.querySelector('#df-28358285-da82-4aab-b339-97775c9c1c3f button.colab-df-convert');\n",
              "      buttonEl.style.display =\n",
              "        google.colab.kernel.accessAllowed ? 'block' : 'none';\n",
              "\n",
              "      async function convertToInteractive(key) {\n",
              "        const element = document.querySelector('#df-28358285-da82-4aab-b339-97775c9c1c3f');\n",
              "        const dataTable =\n",
              "          await google.colab.kernel.invokeFunction('convertToInteractive',\n",
              "                                                    [key], {});\n",
              "        if (!dataTable) return;\n",
              "\n",
              "        const docLinkHtml = 'Like what you see? Visit the ' +\n",
              "          '<a target=\"_blank\" href=https://colab.research.google.com/notebooks/data_table.ipynb>data table notebook</a>'\n",
              "          + ' to learn more about interactive tables.';\n",
              "        element.innerHTML = '';\n",
              "        dataTable['output_type'] = 'display_data';\n",
              "        await google.colab.output.renderOutput(dataTable, element);\n",
              "        const docLink = document.createElement('div');\n",
              "        docLink.innerHTML = docLinkHtml;\n",
              "        element.appendChild(docLink);\n",
              "      }\n",
              "    </script>\n",
              "  </div>\n",
              "\n",
              "\n",
              "<div id=\"df-b6cb9c74-ce36-4317-a1ce-b465eede3395\">\n",
              "  <button class=\"colab-df-quickchart\" onclick=\"quickchart('df-b6cb9c74-ce36-4317-a1ce-b465eede3395')\"\n",
              "            title=\"Suggest charts\"\n",
              "            style=\"display:none;\">\n",
              "\n",
              "<svg xmlns=\"http://www.w3.org/2000/svg\" height=\"24px\"viewBox=\"0 0 24 24\"\n",
              "     width=\"24px\">\n",
              "    <g>\n",
              "        <path d=\"M19 3H5c-1.1 0-2 .9-2 2v14c0 1.1.9 2 2 2h14c1.1 0 2-.9 2-2V5c0-1.1-.9-2-2-2zM9 17H7v-7h2v7zm4 0h-2V7h2v10zm4 0h-2v-4h2v4z\"/>\n",
              "    </g>\n",
              "</svg>\n",
              "  </button>\n",
              "\n",
              "<style>\n",
              "  .colab-df-quickchart {\n",
              "      --bg-color: #E8F0FE;\n",
              "      --fill-color: #1967D2;\n",
              "      --hover-bg-color: #E2EBFA;\n",
              "      --hover-fill-color: #174EA6;\n",
              "      --disabled-fill-color: #AAA;\n",
              "      --disabled-bg-color: #DDD;\n",
              "  }\n",
              "\n",
              "  [theme=dark] .colab-df-quickchart {\n",
              "      --bg-color: #3B4455;\n",
              "      --fill-color: #D2E3FC;\n",
              "      --hover-bg-color: #434B5C;\n",
              "      --hover-fill-color: #FFFFFF;\n",
              "      --disabled-bg-color: #3B4455;\n",
              "      --disabled-fill-color: #666;\n",
              "  }\n",
              "\n",
              "  .colab-df-quickchart {\n",
              "    background-color: var(--bg-color);\n",
              "    border: none;\n",
              "    border-radius: 50%;\n",
              "    cursor: pointer;\n",
              "    display: none;\n",
              "    fill: var(--fill-color);\n",
              "    height: 32px;\n",
              "    padding: 0;\n",
              "    width: 32px;\n",
              "  }\n",
              "\n",
              "  .colab-df-quickchart:hover {\n",
              "    background-color: var(--hover-bg-color);\n",
              "    box-shadow: 0 1px 2px rgba(60, 64, 67, 0.3), 0 1px 3px 1px rgba(60, 64, 67, 0.15);\n",
              "    fill: var(--button-hover-fill-color);\n",
              "  }\n",
              "\n",
              "  .colab-df-quickchart-complete:disabled,\n",
              "  .colab-df-quickchart-complete:disabled:hover {\n",
              "    background-color: var(--disabled-bg-color);\n",
              "    fill: var(--disabled-fill-color);\n",
              "    box-shadow: none;\n",
              "  }\n",
              "\n",
              "  .colab-df-spinner {\n",
              "    border: 2px solid var(--fill-color);\n",
              "    border-color: transparent;\n",
              "    border-bottom-color: var(--fill-color);\n",
              "    animation:\n",
              "      spin 1s steps(1) infinite;\n",
              "  }\n",
              "\n",
              "  @keyframes spin {\n",
              "    0% {\n",
              "      border-color: transparent;\n",
              "      border-bottom-color: var(--fill-color);\n",
              "      border-left-color: var(--fill-color);\n",
              "    }\n",
              "    20% {\n",
              "      border-color: transparent;\n",
              "      border-left-color: var(--fill-color);\n",
              "      border-top-color: var(--fill-color);\n",
              "    }\n",
              "    30% {\n",
              "      border-color: transparent;\n",
              "      border-left-color: var(--fill-color);\n",
              "      border-top-color: var(--fill-color);\n",
              "      border-right-color: var(--fill-color);\n",
              "    }\n",
              "    40% {\n",
              "      border-color: transparent;\n",
              "      border-right-color: var(--fill-color);\n",
              "      border-top-color: var(--fill-color);\n",
              "    }\n",
              "    60% {\n",
              "      border-color: transparent;\n",
              "      border-right-color: var(--fill-color);\n",
              "    }\n",
              "    80% {\n",
              "      border-color: transparent;\n",
              "      border-right-color: var(--fill-color);\n",
              "      border-bottom-color: var(--fill-color);\n",
              "    }\n",
              "    90% {\n",
              "      border-color: transparent;\n",
              "      border-bottom-color: var(--fill-color);\n",
              "    }\n",
              "  }\n",
              "</style>\n",
              "\n",
              "  <script>\n",
              "    async function quickchart(key) {\n",
              "      const quickchartButtonEl =\n",
              "        document.querySelector('#' + key + ' button');\n",
              "      quickchartButtonEl.disabled = true;  // To prevent multiple clicks.\n",
              "      quickchartButtonEl.classList.add('colab-df-spinner');\n",
              "      try {\n",
              "        const charts = await google.colab.kernel.invokeFunction(\n",
              "            'suggestCharts', [key], {});\n",
              "      } catch (error) {\n",
              "        console.error('Error during call to suggestCharts:', error);\n",
              "      }\n",
              "      quickchartButtonEl.classList.remove('colab-df-spinner');\n",
              "      quickchartButtonEl.classList.add('colab-df-quickchart-complete');\n",
              "    }\n",
              "    (() => {\n",
              "      let quickchartButtonEl =\n",
              "        document.querySelector('#df-b6cb9c74-ce36-4317-a1ce-b465eede3395 button');\n",
              "      quickchartButtonEl.style.display =\n",
              "        google.colab.kernel.accessAllowed ? 'block' : 'none';\n",
              "    })();\n",
              "  </script>\n",
              "</div>\n",
              "\n",
              "    </div>\n",
              "  </div>\n"
            ]
          },
          "metadata": {},
          "execution_count": 72
        }
      ],
      "source": [
        "data.drop(['step','type','nameOrig','nameDest','error_orig','error_dest','isFlaggedFraud'],axis=1,inplace=True)\n",
        "data.head()"
      ]
    },
    {
      "cell_type": "markdown",
      "id": "9cdfcf37",
      "metadata": {
        "papermill": {
          "duration": 0.037657,
          "end_time": "2022-02-04T02:36:07.050095",
          "exception": false,
          "start_time": "2022-02-04T02:36:07.012438",
          "status": "completed"
        },
        "tags": [],
        "id": "9cdfcf37"
      },
      "source": [
        "#### Standardizing all the continuous values to be between 0 and 1"
      ]
    },
    {
      "cell_type": "code",
      "execution_count": 73,
      "id": "b4f548ce",
      "metadata": {
        "execution": {
          "iopub.execute_input": "2022-02-04T02:36:07.129498Z",
          "iopub.status.busy": "2022-02-04T02:36:07.128777Z",
          "iopub.status.idle": "2022-02-04T02:36:07.495776Z",
          "shell.execute_reply": "2022-02-04T02:36:07.496422Z",
          "shell.execute_reply.started": "2022-02-04T02:00:38.745969Z"
        },
        "papermill": {
          "duration": 0.408808,
          "end_time": "2022-02-04T02:36:07.496612",
          "exception": false,
          "start_time": "2022-02-04T02:36:07.087804",
          "status": "completed"
        },
        "tags": [],
        "id": "b4f548ce"
      },
      "outputs": [],
      "source": [
        "ss = StandardScaler()\n",
        "\n",
        "data.amount         = ss.fit_transform(data[['amount']])\n",
        "data.oldbalanceOrg  = ss.fit_transform(data[['oldbalanceOrg']])\n",
        "data.oldbalanceDest = ss.fit_transform(data[['oldbalanceDest']])\n",
        "data.newbalanceOrig = ss.fit_transform(data[['newbalanceOrig']])\n",
        "data.newbalanceDest = ss.fit_transform(data[['newbalanceDest']])"
      ]
    },
    {
      "cell_type": "code",
      "execution_count": 74,
      "id": "ccc22964",
      "metadata": {
        "execution": {
          "iopub.execute_input": "2022-02-04T02:36:07.576546Z",
          "iopub.status.busy": "2022-02-04T02:36:07.575797Z",
          "iopub.status.idle": "2022-02-04T02:36:09.334445Z",
          "shell.execute_reply": "2022-02-04T02:36:09.334976Z",
          "shell.execute_reply.started": "2022-02-04T02:00:41.312266Z"
        },
        "papermill": {
          "duration": 1.799809,
          "end_time": "2022-02-04T02:36:09.335219",
          "exception": false,
          "start_time": "2022-02-04T02:36:07.535410",
          "status": "completed"
        },
        "tags": [],
        "id": "ccc22964",
        "outputId": "609f3423-5005-4e32-ec9b-d816a0cc1c2e",
        "colab": {
          "base_uri": "https://localhost:8080/"
        }
      },
      "outputs": [
        {
          "output_type": "execute_result",
          "data": {
            "text/plain": [
              "((15704, 5), (5235, 5), (15704,), (5235,))"
            ]
          },
          "metadata": {},
          "execution_count": 74
        }
      ],
      "source": [
        "X = data.drop([\"isFraud\"],axis=1)\n",
        "y = data.isFraud\n",
        "X_train, X_test, y_train, y_test = train_test_split(X, y,stratify=y)\n",
        "X_train.shape, X_test.shape, y_train.shape, y_test.shape"
      ]
    },
    {
      "cell_type": "code",
      "execution_count": 75,
      "id": "edcbaa14",
      "metadata": {
        "execution": {
          "iopub.execute_input": "2022-02-04T02:36:09.416199Z",
          "iopub.status.busy": "2022-02-04T02:36:09.415490Z",
          "iopub.status.idle": "2022-02-04T02:36:09.421402Z",
          "shell.execute_reply": "2022-02-04T02:36:09.421895Z",
          "shell.execute_reply.started": "2022-02-04T02:00:44.425599Z"
        },
        "papermill": {
          "duration": 0.047611,
          "end_time": "2022-02-04T02:36:09.422096",
          "exception": false,
          "start_time": "2022-02-04T02:36:09.374485",
          "status": "completed"
        },
        "tags": [],
        "id": "edcbaa14"
      },
      "outputs": [],
      "source": [
        "# Function to create a confusion matrix\n",
        "def conf_matrix(y_test, pred_test):\n",
        "\n",
        "    # Creating a confusion matrix\n",
        "    con_mat = confusion_matrix(y_test, pred_test)\n",
        "    con_mat = pd.DataFrame(con_mat, range(2), range(2))\n",
        "\n",
        "    #Ploting the confusion matrix\n",
        "\n",
        "    plt.figure(figsize=(6,6))\n",
        "    plt.title(\"Confusion Matrix\")\n",
        "    sns.set(font_scale=1.5)\n",
        "    sns.heatmap(con_mat, annot=True, annot_kws={\"size\": 16}, fmt='g', cmap='Blues', cbar=False)\n"
      ]
    },
    {
      "cell_type": "code",
      "execution_count": 76,
      "id": "46b1d2e6",
      "metadata": {
        "execution": {
          "iopub.execute_input": "2022-02-04T02:36:09.506983Z",
          "iopub.status.busy": "2022-02-04T02:36:09.506172Z",
          "iopub.status.idle": "2022-02-04T02:36:30.719846Z",
          "shell.execute_reply": "2022-02-04T02:36:30.719203Z",
          "shell.execute_reply.started": "2022-02-04T02:01:43.018445Z"
        },
        "papermill": {
          "duration": 21.25979,
          "end_time": "2022-02-04T02:36:30.720022",
          "exception": false,
          "start_time": "2022-02-04T02:36:09.460232",
          "status": "completed"
        },
        "tags": [],
        "id": "46b1d2e6",
        "outputId": "a2aa7f69-2420-4a0c-a6fb-c42faaabea31",
        "colab": {
          "base_uri": "https://localhost:8080/",
          "height": 649
        }
      },
      "outputs": [
        {
          "output_type": "stream",
          "name": "stdout",
          "text": [
            "How many class does the model predict? [0. 1.]\n",
            "Numbers in each class:\t\t 0 : 5233\n",
            "\t\t 1 : 2\n",
            "f1 score: 0.14814814814814814\n",
            "Accuracy of this model: 0.9956064947468959\n"
          ]
        },
        {
          "output_type": "display_data",
          "data": {
            "text/plain": [
              "<Figure size 600x600 with 1 Axes>"
            ],
            "image/png": "[encoded data removed]"
          },
          "metadata": {}
        }
      ],
      "source": [
        "lr = LogisticRegression(solver='newton-cg')\n",
        "lr.fit(X_train, y_train)\n",
        "\n",
        "lr_pred = lr.predict(X_test)\n",
        "\n",
        "print(\"How many class does the model predict?\",np.unique( lr_pred ))\n",
        "print(\"Numbers in each class:\\t\\t\",\"0 :\",len(lr_pred[lr_pred==0]))\n",
        "print(\"\\t\\t 1 :\",len(lr_pred[lr_pred==1]))\n",
        "\n",
        "f1score = f1_score(y_test, lr_pred)\n",
        "print('f1 score:', f1score)\n",
        "\n",
        "conf_matrix(y_test, lr_pred)\n",
        "\n",
        "acc_lr= accuracy_score(y_test, lr_pred)\n",
        "print(\"Accuracy of this model:\", acc_lr)"
      ]
    },
    {
      "cell_type": "markdown",
      "id": "f2bc13f5",
      "metadata": {
        "papermill": {
          "duration": 0.038918,
          "end_time": "2022-02-04T02:36:30.798065",
          "exception": false,
          "start_time": "2022-02-04T02:36:30.759147",
          "status": "completed"
        },
        "tags": [],
        "id": "f2bc13f5"
      },
      "source": [
        "## Since the dataset extremely imbalanced, some workaround can be done to overcome this. Below are all the methods listed"
      ]
    },
    {
      "cell_type": "markdown",
      "id": "1e278ffb",
      "metadata": {
        "papermill": {
          "duration": 0.038911,
          "end_time": "2022-02-04T02:36:30.876161",
          "exception": false,
          "start_time": "2022-02-04T02:36:30.837250",
          "status": "completed"
        },
        "tags": [],
        "id": "1e278ffb"
      },
      "source": [
        "# 1. Up-sample Minority Class\n",
        "    Randomly duplicate the data from the minority class."
      ]
    },
    {
      "cell_type": "code",
      "execution_count": 77,
      "id": "e6e4fe2c",
      "metadata": {
        "execution": {
          "iopub.execute_input": "2022-02-04T02:36:30.958225Z",
          "iopub.status.busy": "2022-02-04T02:36:30.956802Z",
          "iopub.status.idle": "2022-02-04T02:36:31.401001Z",
          "shell.execute_reply": "2022-02-04T02:36:31.400451Z",
          "shell.execute_reply.started": "2022-02-04T02:02:23.567362Z"
        },
        "papermill": {
          "duration": 0.486125,
          "end_time": "2022-02-04T02:36:31.401142",
          "exception": false,
          "start_time": "2022-02-04T02:36:30.915017",
          "status": "completed"
        },
        "tags": [],
        "id": "e6e4fe2c",
        "outputId": "a1bcc89f-df3e-40e7-8167-017452f30903",
        "colab": {
          "base_uri": "https://localhost:8080/"
        }
      },
      "outputs": [
        {
          "output_type": "stream",
          "name": "stdout",
          "text": [
            "The new class count are :\n"
          ]
        },
        {
          "output_type": "execute_result",
          "data": {
            "text/plain": [
              "0.0    20839\n",
              "1.0    20839\n",
              "Name: isFraud, dtype: int64"
            ]
          },
          "metadata": {},
          "execution_count": 77
        }
      ],
      "source": [
        "n = data.isFraud.value_counts()[0]\n",
        "\n",
        "# Separate majority and minority classes\n",
        "df_majority = data[data.isFraud==0]\n",
        "df_minority = data[data.isFraud==1]\n",
        "\n",
        "# Upsample minority class\n",
        "df_minority_upsampled = resample(df_minority,\n",
        "                                 replace=True,     # sample with replacement\n",
        "                                 n_samples=n,    # to match majority class\n",
        "                                 random_state=123) # reproducible results\n",
        "\n",
        "# Combine majority class with upsampled minority class\n",
        "df_upsampled = pd.concat([df_majority, df_minority_upsampled])\n",
        "\n",
        "print(\"The new class count are :\")\n",
        "df_upsampled.isFraud.value_counts()"
      ]
    },
    {
      "cell_type": "code",
      "execution_count": 78,
      "id": "960632da",
      "metadata": {
        "execution": {
          "iopub.execute_input": "2022-02-04T02:36:31.484004Z",
          "iopub.status.busy": "2022-02-04T02:36:31.483264Z",
          "iopub.status.idle": "2022-02-04T02:37:51.798599Z",
          "shell.execute_reply": "2022-02-04T02:37:51.797938Z",
          "shell.execute_reply.started": "2022-02-04T02:33:20.016976Z"
        },
        "papermill": {
          "duration": 80.358078,
          "end_time": "2022-02-04T02:37:51.798783",
          "exception": false,
          "start_time": "2022-02-04T02:36:31.440705",
          "status": "completed"
        },
        "tags": [],
        "id": "960632da",
        "outputId": "4ed32bd8-a24e-4582-db57-2bf344b18fd0",
        "colab": {
          "base_uri": "https://localhost:8080/",
          "height": 597
        }
      },
      "outputs": [
        {
          "output_type": "stream",
          "name": "stdout",
          "text": [
            "f1 score for the testing data:\t 0.8865722177670855\n",
            "Accuracy of thie model:\t\t 0.877831094049904\n"
          ]
        },
        {
          "output_type": "display_data",
          "data": {
            "text/plain": [
              "<Figure size 600x600 with 1 Axes>"
            ],
            "image/png": "[encoded data removed]"
          },
          "metadata": {}
        }
      ],
      "source": [
        "X = df_upsampled.drop([\"isFraud\"],axis = 1)\n",
        "y = df_upsampled.isFraud\n",
        "X_train, X_test, y_train, y_test = train_test_split(X, y)\n",
        "\n",
        "lr = LogisticRegression(solver='newton-cg')\n",
        "lr.fit(X_train, y_train)\n",
        "\n",
        "# Predicting on the test data\n",
        "up_scale_pred = lr.predict(X_test)\n",
        "\n",
        "#Calculating and printing the f1 score\n",
        "f1up_scale_pred = f1_score(y_test, up_scale_pred)\n",
        "print('f1 score for the testing data:\\t', f1up_scale_pred)\n",
        "\n",
        "#Calling function\n",
        "conf_matrix(y_test,up_scale_pred)\n",
        "\n",
        "acc_up_scale=accuracy_score(y_test, up_scale_pred)\n",
        "print(\"Accuracy of thie model:\\t\\t\",acc_up_scale)\n"
      ]
    },
    {
      "cell_type": "markdown",
      "id": "9d77df76",
      "metadata": {
        "papermill": {
          "duration": 0.043026,
          "end_time": "2022-02-04T02:37:51.884436",
          "exception": false,
          "start_time": "2022-02-04T02:37:51.841410",
          "status": "completed"
        },
        "tags": [],
        "id": "9d77df76"
      },
      "source": [
        "# 2. Down-sample Majority Class\n",
        "     Randomly remove data from the majority class"
      ]
    },
    {
      "cell_type": "code",
      "execution_count": 79,
      "id": "3bf19081",
      "metadata": {
        "execution": {
          "iopub.execute_input": "2022-02-04T02:37:51.990172Z",
          "iopub.status.busy": "2022-02-04T02:37:51.989024Z",
          "iopub.status.idle": "2022-02-04T02:37:52.220635Z",
          "shell.execute_reply": "2022-02-04T02:37:52.221504Z",
          "shell.execute_reply.started": "2022-02-04T02:03:27.173127Z"
        },
        "papermill": {
          "duration": 0.295352,
          "end_time": "2022-02-04T02:37:52.221764",
          "exception": false,
          "start_time": "2022-02-04T02:37:51.926412",
          "status": "completed"
        },
        "tags": [],
        "id": "3bf19081",
        "outputId": "621b6e5f-b6bb-4509-da4a-cac83f7f0918",
        "colab": {
          "base_uri": "https://localhost:8080/"
        }
      },
      "outputs": [
        {
          "output_type": "stream",
          "name": "stdout",
          "text": [
            "The new class count are:\n",
            "0.0    100\n",
            "1.0    100\n",
            "Name: isFraud, dtype: int64\n"
          ]
        }
      ],
      "source": [
        "n = data.isFraud.value_counts()[1]\n",
        "\n",
        "# Separate majority and minority classes\n",
        "\n",
        "df_majority = data[data.isFraud==0]\n",
        "df_minority = data[data.isFraud==1]\n",
        "\n",
        "\n",
        "# Downsample majority class\n",
        "df_majority_downsampled = resample(df_majority,\n",
        "                                 replace=False,    # sample without replacement\n",
        "                                 n_samples=n,     # to match minority class\n",
        "                                 random_state=123) # reproducible results\n",
        "\n",
        "# Combine minority class with downsampled majority class\n",
        "df_downsampled = pd.concat([df_majority_downsampled, df_minority])\n",
        "\n",
        "print(\"The new class count are:\")\n",
        "print(df_downsampled.isFraud.value_counts())"
      ]
    },
    {
      "cell_type": "code",
      "execution_count": 80,
      "id": "ad464020",
      "metadata": {
        "execution": {
          "iopub.execute_input": "2022-02-04T02:37:52.320637Z",
          "iopub.status.busy": "2022-02-04T02:37:52.319832Z",
          "iopub.status.idle": "2022-02-04T02:37:52.603662Z",
          "shell.execute_reply": "2022-02-04T02:37:52.604675Z",
          "shell.execute_reply.started": "2022-02-04T02:32:45.536006Z"
        },
        "papermill": {
          "duration": 0.339883,
          "end_time": "2022-02-04T02:37:52.605000",
          "exception": false,
          "start_time": "2022-02-04T02:37:52.265117",
          "status": "completed"
        },
        "tags": [],
        "id": "ad464020",
        "outputId": "3327aedd-3359-490b-81cc-0ed0a2272660",
        "colab": {
          "base_uri": "https://localhost:8080/",
          "height": 649
        }
      },
      "outputs": [
        {
          "output_type": "stream",
          "name": "stdout",
          "text": [
            "How many class does the model predict? [0. 1.]\n",
            "Count in each class:\t\t\t 0 : 77\n",
            "\t\t\t\t\t 1 : 123\n",
            "f1 score for the testing data:\t\t 0.8609865470852018\n",
            "Accuracy of the model:\t\t\t 0.845\n"
          ]
        },
        {
          "output_type": "display_data",
          "data": {
            "text/plain": [
              "<Figure size 600x600 with 1 Axes>"
            ],
            "image/png": "[encoded data removed]"
          },
          "metadata": {}
        }
      ],
      "source": [
        "# Separate input features (X) and target variable (y)\n",
        "y = df_downsampled.isFraud\n",
        "X = df_downsampled.drop(['isFraud'], axis=1)\n",
        "\n",
        "# Train model\n",
        "lr = LogisticRegression().fit(X, y)\n",
        "\n",
        "# Predict on training set\n",
        "down_scale_pred = lr.predict(X)\n",
        "\n",
        "print(\"How many class does the model predict?\",np.unique( down_scale_pred ))\n",
        "print(\"Count in each class:\\t\\t\\t\",\"0 :\",len(down_scale_pred[down_scale_pred==0]))\n",
        "print(\"\\t\\t\\t\\t\\t 1 :\",len(down_scale_pred[down_scale_pred==1]))\n",
        "\n",
        "#Calculating and printing the f1 score\n",
        "f1down_scale_pred = f1_score(y, down_scale_pred)\n",
        "print('f1 score for the testing data:\\t\\t', f1down_scale_pred)\n",
        "\n",
        "conf_matrix(y, down_scale_pred)\n",
        "\n",
        "acc_down_scale=accuracy_score(y, down_scale_pred)\n",
        "print(\"Accuracy of the model:\\t\\t\\t\", acc_down_scale)\n"
      ]
    },
    {
      "cell_type": "markdown",
      "id": "90b388b3",
      "metadata": {
        "papermill": {
          "duration": 0.043746,
          "end_time": "2022-02-04T02:37:52.694034",
          "exception": false,
          "start_time": "2022-02-04T02:37:52.650288",
          "status": "completed"
        },
        "tags": [],
        "id": "90b388b3"
      },
      "source": [
        "# 3. Tree-Based Algorithms"
      ]
    },
    {
      "cell_type": "code",
      "execution_count": 81,
      "id": "c53acfbb",
      "metadata": {
        "execution": {
          "iopub.execute_input": "2022-02-04T02:37:52.786396Z",
          "iopub.status.busy": "2022-02-04T02:37:52.785677Z",
          "iopub.status.idle": "2022-02-04T02:52:58.007681Z",
          "shell.execute_reply": "2022-02-04T02:52:58.006610Z",
          "shell.execute_reply.started": "2022-02-04T02:04:21.771754Z"
        },
        "papermill": {
          "duration": 905.268159,
          "end_time": "2022-02-04T02:52:58.008053",
          "exception": false,
          "start_time": "2022-02-04T02:37:52.739894",
          "status": "completed"
        },
        "tags": [],
        "id": "c53acfbb"
      },
      "outputs": [],
      "source": [
        "# Separate input features (X) and target variable (y)\n",
        "y = data.isFraud\n",
        "X = data.drop(['isFraud'], axis=1)\n",
        "\n",
        "X_train, X_test, y_train, y_test = train_test_split(X, y)\n",
        "\n",
        "# Train model\n",
        "rfc = RandomForestClassifier()\n",
        "rfc.fit(X_train, y_train)\n",
        "# Predict on training set\n",
        "rfc_pred = rfc.predict(X_test)"
      ]
    },
    {
      "cell_type": "code",
      "execution_count": 82,
      "id": "23981215",
      "metadata": {
        "execution": {
          "iopub.execute_input": "2022-02-04T02:52:58.110921Z",
          "iopub.status.busy": "2022-02-04T02:52:58.110141Z",
          "iopub.status.idle": "2022-02-04T02:53:07.591586Z",
          "shell.execute_reply": "2022-02-04T02:53:07.591004Z",
          "shell.execute_reply.started": "2022-02-04T02:30:16.166769Z"
        },
        "papermill": {
          "duration": 9.534541,
          "end_time": "2022-02-04T02:53:07.591742",
          "exception": false,
          "start_time": "2022-02-04T02:52:58.057201",
          "status": "completed"
        },
        "tags": [],
        "id": "23981215",
        "outputId": "522a6a6d-d5bf-4cb6-d028-fc1061ded552",
        "colab": {
          "base_uri": "https://localhost:8080/",
          "height": 614
        }
      },
      "outputs": [
        {
          "output_type": "stream",
          "name": "stdout",
          "text": [
            "AUROC:\t\t\t 0.9429006155938824\n",
            "f1 score:\t\t 0.4848484848484849\n",
            "Accuracy of the model:\t 0.9967526265520534\n"
          ]
        },
        {
          "output_type": "display_data",
          "data": {
            "text/plain": [
              "<Figure size 600x600 with 1 Axes>"
            ],
            "image/png": "[encoded data removed]"
          },
          "metadata": {}
        }
      ],
      "source": [
        "\n",
        "prob_y = rfc.predict_proba(X_test)\n",
        "prob_y = [p[1] for p in prob_y]\n",
        "\n",
        "print(\"AUROC:\\t\\t\\t\",roc_auc_score(y_test, prob_y))\n",
        "\n",
        "f1_rfc = f1_score(y_test, rfc_pred)\n",
        "print('f1 score:\\t\\t', f1_rfc)\n",
        "\n",
        "conf_matrix(y_test, rfc_pred)\n",
        "\n",
        "acc_rfc=accuracy_score(y_test, rfc_pred)\n",
        "print(\"Accuracy of the model:\\t\", acc_rfc)\n"
      ]
    },
    {
      "cell_type": "code",
      "execution_count": 83,
      "id": "f9c24b7b",
      "metadata": {
        "execution": {
          "iopub.execute_input": "2022-02-04T02:53:07.691620Z",
          "iopub.status.busy": "2022-02-04T02:53:07.690635Z",
          "iopub.status.idle": "2022-02-04T02:53:07.694117Z",
          "shell.execute_reply": "2022-02-04T02:53:07.694639Z",
          "shell.execute_reply.started": "2022-02-04T02:27:48.732723Z"
        },
        "papermill": {
          "duration": 0.058696,
          "end_time": "2022-02-04T02:53:07.694817",
          "exception": false,
          "start_time": "2022-02-04T02:53:07.636121",
          "status": "completed"
        },
        "tags": [],
        "id": "f9c24b7b",
        "outputId": "136186c2-23eb-4c31-f572-34fc1929b3a7",
        "colab": {
          "base_uri": "https://localhost:8080/"
        }
      },
      "outputs": [
        {
          "output_type": "stream",
          "name": "stdout",
          "text": [
            "                           Model  f1 score  Accuracy Score\n",
            "0            Logistic Regression  0.148148        0.995606\n",
            "1    UpScale Logistic Regression  0.886572        0.877831\n",
            "2  DownScale Logistic Regression  0.860987        0.845000\n",
            "3                   RandomForest  0.484848        0.996753\n"
          ]
        }
      ],
      "source": [
        "data = {'Model':['Logistic Regression','UpScale Logistic Regression','DownScale Logistic Regression','RandomForest'],\n",
        "        'f1 score':[f1score,f1up_scale_pred,f1down_scale_pred,f1_rfc],\n",
        "        'Accuracy Score':[acc_lr,acc_up_scale,acc_down_scale,acc_rfc]}\n",
        "\n",
        "comparision_table=pd.DataFrame(data)\n",
        "print(comparision_table)"
      ]
    },
    {
      "cell_type": "code",
      "execution_count": 83,
      "id": "43b5b852",
      "metadata": {
        "papermill": {
          "duration": 0.044386,
          "end_time": "2022-02-04T02:53:07.786897",
          "exception": false,
          "start_time": "2022-02-04T02:53:07.742511",
          "status": "completed"
        },
        "tags": [],
        "id": "43b5b852"
      },
      "outputs": [],
      "source": []
    }
  ],
  "metadata": {
    "kernelspec": {
      "display_name": "Python 3",
      "language": "python",
      "name": "python3"
    },
    "language_info": {
      "codemirror_mode": {
        "name": "ipython",
        "version": 3
      },
      "file_extension": ".py",
      "mimetype": "text/x-python",
      "name": "python",
      "nbconvert_exporter": "python",
      "pygments_lexer": "ipython3",
      "version": "3.7.12"
    },
    "papermill": {
      "default_parameters": {},
      "duration": 1062.381226,
      "end_time": "2022-02-04T02:53:09.750763",
      "environment_variables": {},
      "exception": null,
      "input_path": "__notebook__.ipynb",
      "output_path": "__notebook__.ipynb",
      "parameters": {},
      "start_time": "2022-02-04T02:35:27.369537",
      "version": "2.3.3"
    },
    "colab": {
      "provenance": [],
      "include_colab_link": true
    }
  },
  "nbformat": 4,
  "nbformat_minor": 5
}